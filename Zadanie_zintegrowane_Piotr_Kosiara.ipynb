{
 "cells": [
  {
   "cell_type": "code",
   "execution_count": null,
   "metadata": {},
   "outputs": [],
   "source": [
    "#Poniżej znajduje się kod wykonany na zajęciach zintegrowanych a poniżej tego kodu jest wykonane zadanie."
   ]
  },
  {
   "cell_type": "code",
   "execution_count": 41,
   "metadata": {},
   "outputs": [],
   "source": [
    "import sympy as sp\n",
    "import numpy as np\n",
    "from scipy.integrate import quad\n",
    "from scipy.stats import norm\n",
    "import matplotlib.pyplot as plt\n",
    "from sympy.utilities import lambdify\n",
    "from matplotlib.animation import FuncAnimation\n",
    "from IPython.display import HTML\n",
    "\n",
    "sp.init_printing()"
   ]
  },
  {
   "cell_type": "code",
   "execution_count": 42,
   "metadata": {},
   "outputs": [
    {
     "data": {
      "image/png": "[encoded data removed]",
      "text/latex": [
       "$\\displaystyle \\sqrt{2} \\sqrt{\\frac{1}{a}} e^{- \\frac{i \\pi^{2} \\hbar n^{2} t}{2 a^{2} m}} \\sin{\\left(\\frac{\\pi n x}{a} \\right)}$"
      ],
      "text/plain": [
       "                2    2              \n",
       "            -ⅈ⋅π ⋅h̅⋅n ⋅t            \n",
       "            ─────────────           \n",
       "       ___         2                \n",
       "      ╱ 1       2⋅a ⋅m       ⎛π⋅n⋅x⎞\n",
       "√2⋅  ╱  ─ ⋅ℯ             ⋅sin⎜─────⎟\n",
       "   ╲╱   a                    ⎝  a  ⎠"
      ]
     },
     "execution_count": 42,
     "metadata": {},
     "output_type": "execute_result"
    }
   ],
   "source": [
    "x = sp.Symbol('x', real=True)\n",
    "k = sp.Symbol('k', real=True, positive=True)\n",
    "a = sp.Symbol('a', real=True)\n",
    "m = sp.Symbol('m', real=True, positive=True)\n",
    "t = sp.Symbol('t', real=True, positive=True)\n",
    "h = sp.Symbol('hbar', real=True, positive=True)\n",
    "n = sp.Symbol('n', integer=True, nonzero=True)\n",
    "psi = sp.Function('psi')\n",
    "\n",
    "x, k, a, m, t, h, n, psi(x)\n",
    "\n",
    "psi(x).diff(x, x)\n",
    "\n",
    "-k**2 * psi(x)\n",
    "\n",
    "eq = sp.Eq(psi(x).diff(x, x), -k**2 * psi(x))\n",
    "eq\n",
    "\n",
    "sp.dsolve(eq, psi(x))\n",
    "\n",
    "sp.dsolve(eq, psi(x), ics={psi(0): 0, psi(a): 0})\n",
    "\n",
    "sol = sp.dsolve(eq, psi(x), ics={psi(0): 0})\n",
    "sol\n",
    "\n",
    "\n",
    "sol = sol.subs(k, n * sp.pi / a)\n",
    "sol\n",
    "\n",
    "sol.lhs, sol.rhs\n",
    "\n",
    "sp.Abs(sol.rhs)**2\n",
    "\n",
    "sp.integrate(sol.rhs**2, (x, 0, a))\n",
    "\n",
    "sol = sol.subs(sp.Symbol('C1'), sp.sqrt(2 / a))\n",
    "sol\n",
    "\n",
    "En = n**2 * sp.pi**2 * h**2 / (2 * m * a**2)\n",
    "En\n",
    "\n",
    "phi = sp.exp(-sp.I * En * t / h)\n",
    "phi\n",
    "\n",
    "Psi = sol.rhs * phi\n",
    "Psi"
   ]
  },
  {
   "cell_type": "markdown",
   "metadata": {},
   "source": [
    "Część zadaniowa znajduje się poniżej:\n",
    "\n",
    "Aby obliczyć nieoznaczoność pędu Δp i nieoznaczoność położenia Δx dla danej funkcji falowej cząstki, musimy użyć odpowiednich operatorów kwantowych i wyznaczyć wartości średnie ich kwadraty. W przypadku zasady nieoznaczoności Heisenberga możemy użyć operatorów pędu (p) i położenia (x). Dla funkcji falowej Ψ(x), operator pędu p w przestrzeni położeniowej to −iℏ*∂/∂x​, a operator położenia x to po prostu x."
   ]
  },
  {
   "cell_type": "code",
   "execution_count": 43,
   "metadata": {},
   "outputs": [
    {
     "data": {
      "image/png": "[encoded data removed]",
      "text/latex": [
       "$\\displaystyle \\frac{\\sqrt{3 \\pi^{2} n^{2} - 18} \\left|{\\frac{a}{n}}\\right|}{6 \\pi}$"
      ],
      "text/plain": [
       "   ______________    \n",
       "  ╱    2  2       │a│\n",
       "╲╱  3⋅π ⋅n  - 18 ⋅│─│\n",
       "                  │n│\n",
       "─────────────────────\n",
       "         6⋅π         "
      ]
     },
     "execution_count": 43,
     "metadata": {},
     "output_type": "execute_result"
    }
   ],
   "source": [
    "#obliczam najpierw nieoznaczoność położenia\n",
    "sol.rhs * x * sol.rhs\n",
    "sp.integrate(sol.rhs * x * sol.rhs, (x, 0, a)).simplify()\n",
    "sp.integrate(sol.rhs * x**2 * sol.rhs, (x, 0, a)).simplify()\n",
    "delta_x = (sp.sqrt(sp.integrate(sol.rhs * x**2 * sol.rhs, (x, 0, a)).simplify() - (sp.integrate(sol.rhs * x * sol.rhs, (x, 0, a)).simplify())**2)).simplify()\n",
    "delta_x"
   ]
  },
  {
   "cell_type": "code",
   "execution_count": 44,
   "metadata": {},
   "outputs": [
    {
     "data": {
      "image/png": "[encoded data removed]",
      "text/latex": [
       "$\\displaystyle \\pi \\hbar \\left|{\\frac{n}{a}}\\right|$"
      ],
      "text/plain": [
       "    │n│\n",
       "π⋅h̅⋅│─│\n",
       "    │a│"
      ]
     },
     "execution_count": 44,
     "metadata": {},
     "output_type": "execute_result"
    }
   ],
   "source": [
    "#obliczam nieoznaczoność pędu:\n",
    "avg_p = sp.integrate(sol.rhs * (-sp.I * h * sp.diff(sol.rhs, x)), (x, 0, a))\n",
    "avg_p_squared = sp.integrate(sol.rhs * (-h**2 * sp.diff(sol.rhs, x, x)), (x, 0, a))\n",
    "avg_p\n",
    "avg_p_squared\n",
    "delta_p = sp.sqrt(avg_p_squared - avg_p**2).simplify()\n",
    "delta_p"
   ]
  },
  {
   "cell_type": "code",
   "execution_count": 45,
   "metadata": {},
   "outputs": [
    {
     "data": {
      "image/png": "[encoded data removed]",
      "text/latex": [
       "$\\displaystyle \\frac{\\hbar \\sqrt{3 \\pi^{2} n^{2} - 18}}{6}$"
      ],
      "text/plain": [
       "     ______________\n",
       "    ╱    2  2      \n",
       "h̅⋅╲╱  3⋅π ⋅n  - 18 \n",
       "───────────────────\n",
       "         6         "
      ]
     },
     "execution_count": 45,
     "metadata": {},
     "output_type": "execute_result"
    }
   ],
   "source": [
    "#ostatecznie sprawdzam czy nierówność jest prawdziwa:\n",
    "(delta_p*delta_x).simplify()\n"
   ]
  },
  {
   "cell_type": "code",
   "execution_count": 46,
   "metadata": {},
   "outputs": [
    {
     "data": {
      "image/png": "[encoded data removed]",
      "text/latex": [
       "$\\displaystyle \\left|{n}\\right| \\geq \\frac{3.0}{\\pi}$"
      ],
      "text/plain": [
       "      3.0\n",
       "│n│ ≥ ───\n",
       "       π "
      ]
     },
     "execution_count": 46,
     "metadata": {},
     "output_type": "execute_result"
    }
   ],
   "source": [
    "n = sp.symbols('n', integer=True, nonzero=True)\n",
    "h = sp.Symbol('hbar', real=True, positive=True)\n",
    "\n",
    "# Coś mi nie działało z solvem jak chciałem bezpośrednio wpisać wzór więc po prostu przepisałem wzór z komórki wyżej do zasady nieoznaczoności (skróciłem też hbar):\n",
    "result = sp.solve((sp.sqrt(3 * sp.pi**2 * n**2 - 18)/6) >= 1/2, n)\n",
    "result.simplify()\n"
   ]
  },
  {
   "cell_type": "markdown",
   "metadata": {},
   "source": [
    "Ostateczny wynik to |n| >= 3/pi . Zakładamy, że n jest całkowite bez zera czyli możliwe n to ..., -2 ,-1 , 1, 2, 3 ,... Czyli dla wszystkich rozpatrywanych n. Oznacza to ,że zasada nieoznaczoności jest prawdziwa dla naszej studni."
   ]
  }
 ],
 "metadata": {
  "kernelspec": {
   "display_name": "Python 3",
   "language": "python",
   "name": "python3"
  },
  "language_info": {
   "codemirror_mode": {
    "name": "ipython",
    "version": 3
   },
   "file_extension": ".py",
   "mimetype": "text/x-python",
   "name": "python",
   "nbconvert_exporter": "python",
   "pygments_lexer": "ipython3",
   "version": "3.9.5"
  }
 },
 "nbformat": 4,
 "nbformat_minor": 2
}
